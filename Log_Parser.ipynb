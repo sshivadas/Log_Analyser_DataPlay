{
 "cells": [
  {
   "cell_type": "code",
   "execution_count": 6,
   "id": "aeb77db8",
   "metadata": {},
   "outputs": [],
   "source": [
    "from Parse_Utils import parse_logs\n",
    "from EDA_Utils import get_all_users, get_all_activities, get_all_users, get_activities_per_user, get_all_logs_per_user"
   ]
  },
  {
   "cell_type": "code",
   "execution_count": 2,
   "id": "2716fcc2",
   "metadata": {},
   "outputs": [],
   "source": [
    "raw_logs = \"\"\"[2022-01-01 08:15:30] 123 login success viewer\n",
    "[2022-01-01 08:20:45] 123 logout viewer\n",
    "[2022-01-01 09:05:12] 123 view_page article_1 viewer\n",
    "[2022-01-01 09:10:30] 789 login success admin,editor\n",
    "[2022-01-01 09:30:00] 456 edit_profile editor\n",
    "[2022-01-01 10:00:00] 456 view_page article_2 editor\n",
    "[2022-01-01 10:30:00] 789 view_page article_1 admin\n",
    "[2022-01-01 10:45:22] 123 logout viewer\n",
    "[2022-01-01 11:05:30] 789 logout admin\n",
    "[2022-01-01 11:15:00] 456 view_page article_2 editor\n",
    "[2022-01-01 11:20:45] 123 login success viewer\n",
    "[2022-01-01 12:30:00] 456 logout editor\n",
    "[2022-01-01 12:45:22] 789 edit_profile admin\n",
    "[2022-01-01 13:15:30] 123 view_page article_3 viewer\n",
    "[2022-01-01 13:30:45] 789 view_page article_4 admin\n",
    "[2022-01-01 14:10:00] 123 logout viewer\n",
    "[2022-01-01 14:20:00] 123 login success admin\n",
    "[2022-01-01 15:00:00] 123 view_page article_4 admin\n",
    "[2022-01-01 15:30:00] 789 view_page article_5 admin\n",
    "[2022-01-01 16:00:00] 123 logout admin\n",
    "[2022-01-01 16:30:00] 456 edit_profile editor\n",
    "[2022-01-01 17:00:00] 789 edit_profile admin\n",
    "[2022-01-01 18:00:00] 456 logout editor\n",
    "[2022-01-01 18:15:00] 789 logout admin\n",
    "\"\"\""
   ]
  },
  {
   "cell_type": "code",
   "execution_count": 3,
   "id": "4ac95d17",
   "metadata": {},
   "outputs": [
    {
     "data": {
      "text/plain": [
       "[{'timestamp': datetime.datetime(2022, 1, 1, 8, 15, 30),\n",
       "  'user_id': '123',\n",
       "  'activity': 'login',\n",
       "  'activity_detail': 'success',\n",
       "  'roles': ['viewer']},\n",
       " {'timestamp': datetime.datetime(2022, 1, 1, 8, 20, 45),\n",
       "  'user_id': '123',\n",
       "  'activity': 'logout',\n",
       "  'activity_detail': '',\n",
       "  'roles': ['viewer']},\n",
       " {'timestamp': datetime.datetime(2022, 1, 1, 9, 5, 12),\n",
       "  'user_id': '123',\n",
       "  'activity': 'view_page',\n",
       "  'activity_detail': 'article_1',\n",
       "  'roles': ['viewer']},\n",
       " {'timestamp': datetime.datetime(2022, 1, 1, 9, 10, 30),\n",
       "  'user_id': '789',\n",
       "  'activity': 'login',\n",
       "  'activity_detail': 'success',\n",
       "  'roles': ['admin', 'editor']},\n",
       " {'timestamp': datetime.datetime(2022, 1, 1, 9, 30),\n",
       "  'user_id': '456',\n",
       "  'activity': 'edit_profile',\n",
       "  'activity_detail': '',\n",
       "  'roles': ['editor']},\n",
       " {'timestamp': datetime.datetime(2022, 1, 1, 10, 0),\n",
       "  'user_id': '456',\n",
       "  'activity': 'view_page',\n",
       "  'activity_detail': 'article_2',\n",
       "  'roles': ['editor']},\n",
       " {'timestamp': datetime.datetime(2022, 1, 1, 10, 30),\n",
       "  'user_id': '789',\n",
       "  'activity': 'view_page',\n",
       "  'activity_detail': 'article_1',\n",
       "  'roles': ['admin']},\n",
       " {'timestamp': datetime.datetime(2022, 1, 1, 10, 45, 22),\n",
       "  'user_id': '123',\n",
       "  'activity': 'logout',\n",
       "  'activity_detail': '',\n",
       "  'roles': ['viewer']},\n",
       " {'timestamp': datetime.datetime(2022, 1, 1, 11, 5, 30),\n",
       "  'user_id': '789',\n",
       "  'activity': 'logout',\n",
       "  'activity_detail': '',\n",
       "  'roles': ['admin']},\n",
       " {'timestamp': datetime.datetime(2022, 1, 1, 11, 15),\n",
       "  'user_id': '456',\n",
       "  'activity': 'view_page',\n",
       "  'activity_detail': 'article_2',\n",
       "  'roles': ['editor']},\n",
       " {'timestamp': datetime.datetime(2022, 1, 1, 11, 20, 45),\n",
       "  'user_id': '123',\n",
       "  'activity': 'login',\n",
       "  'activity_detail': 'success',\n",
       "  'roles': ['viewer']},\n",
       " {'timestamp': datetime.datetime(2022, 1, 1, 12, 30),\n",
       "  'user_id': '456',\n",
       "  'activity': 'logout',\n",
       "  'activity_detail': '',\n",
       "  'roles': ['editor']},\n",
       " {'timestamp': datetime.datetime(2022, 1, 1, 12, 45, 22),\n",
       "  'user_id': '789',\n",
       "  'activity': 'edit_profile',\n",
       "  'activity_detail': '',\n",
       "  'roles': ['admin']},\n",
       " {'timestamp': datetime.datetime(2022, 1, 1, 13, 15, 30),\n",
       "  'user_id': '123',\n",
       "  'activity': 'view_page',\n",
       "  'activity_detail': 'article_3',\n",
       "  'roles': ['viewer']},\n",
       " {'timestamp': datetime.datetime(2022, 1, 1, 13, 30, 45),\n",
       "  'user_id': '789',\n",
       "  'activity': 'view_page',\n",
       "  'activity_detail': 'article_4',\n",
       "  'roles': ['admin']},\n",
       " {'timestamp': datetime.datetime(2022, 1, 1, 14, 10),\n",
       "  'user_id': '123',\n",
       "  'activity': 'logout',\n",
       "  'activity_detail': '',\n",
       "  'roles': ['viewer']},\n",
       " {'timestamp': datetime.datetime(2022, 1, 1, 14, 20),\n",
       "  'user_id': '123',\n",
       "  'activity': 'login',\n",
       "  'activity_detail': 'success',\n",
       "  'roles': ['admin']},\n",
       " {'timestamp': datetime.datetime(2022, 1, 1, 15, 0),\n",
       "  'user_id': '123',\n",
       "  'activity': 'view_page',\n",
       "  'activity_detail': 'article_4',\n",
       "  'roles': ['admin']},\n",
       " {'timestamp': datetime.datetime(2022, 1, 1, 15, 30),\n",
       "  'user_id': '789',\n",
       "  'activity': 'view_page',\n",
       "  'activity_detail': 'article_5',\n",
       "  'roles': ['admin']},\n",
       " {'timestamp': datetime.datetime(2022, 1, 1, 16, 0),\n",
       "  'user_id': '123',\n",
       "  'activity': 'logout',\n",
       "  'activity_detail': '',\n",
       "  'roles': ['admin']},\n",
       " {'timestamp': datetime.datetime(2022, 1, 1, 16, 30),\n",
       "  'user_id': '456',\n",
       "  'activity': 'edit_profile',\n",
       "  'activity_detail': '',\n",
       "  'roles': ['editor']},\n",
       " {'timestamp': datetime.datetime(2022, 1, 1, 17, 0),\n",
       "  'user_id': '789',\n",
       "  'activity': 'edit_profile',\n",
       "  'activity_detail': '',\n",
       "  'roles': ['admin']},\n",
       " {'timestamp': datetime.datetime(2022, 1, 1, 18, 0),\n",
       "  'user_id': '456',\n",
       "  'activity': 'logout',\n",
       "  'activity_detail': '',\n",
       "  'roles': ['editor']},\n",
       " {'timestamp': datetime.datetime(2022, 1, 1, 18, 15),\n",
       "  'user_id': '789',\n",
       "  'activity': 'logout',\n",
       "  'activity_detail': '',\n",
       "  'roles': ['admin']}]"
      ]
     },
     "execution_count": 3,
     "metadata": {},
     "output_type": "execute_result"
    }
   ],
   "source": [
    "try:\n",
    "    parsed_logs = parse_logs(logs= raw_logs)\n",
    "except Exception as e:\n",
    "    print(f\"Log parsing failed completely: {e}\")\n",
    "    parsed_logs = []\n",
    "parsed_logs"
   ]
  },
  {
   "cell_type": "code",
   "execution_count": 4,
   "id": "8e15255e",
   "metadata": {},
   "outputs": [
    {
     "name": "stdout",
     "output_type": "stream",
     "text": [
      "Active Users are: {'456', '123', '789'}\n"
     ]
    }
   ],
   "source": [
    "#Active users\n",
    "users_per_log = get_all_users(parsed_logs)\n",
    "active_users = set(users_per_log)\n",
    "print(f\"Active Users are: {active_users}\")"
   ]
  },
  {
   "cell_type": "markdown",
   "id": "a4d04d82",
   "metadata": {},
   "source": [
    "How many activities did each user perform in the log data?"
   ]
  },
  {
   "cell_type": "code",
   "execution_count": 5,
   "id": "ef90b66a",
   "metadata": {},
   "outputs": [
    {
     "name": "stdout",
     "output_type": "stream",
     "text": [
      "User 456: 6\n",
      "User 123: 10\n",
      "User 789: 8\n"
     ]
    }
   ],
   "source": [
    "#Activity count per user\n",
    "for user in active_users:\n",
    "    activities_per_user =  get_activities_per_user(parsed_logs,user)\n",
    "    print(f\"User {user}: {len(activities_per_user)}\")"
   ]
  },
  {
   "cell_type": "markdown",
   "id": "b3b76bd8",
   "metadata": {},
   "source": [
    "Can you provide a breakdown of the activities for user ID 123?"
   ]
  },
  {
   "cell_type": "code",
   "execution_count": null,
   "id": "d2dd8726",
   "metadata": {},
   "outputs": [],
   "source": [
    "\"\"\"#Sequential activity log of user_id 123\n",
    "all_logs_123 = get_all_logs_per_user(parsed_logs,\"123\")\n",
    "for log in all_logs_123:\n",
    "    if log['activity'].lower() == 'login':\n",
    "        if(log['activity_detail']).lower() == 'success':\n",
    "            print(f\"User logged in as {log['roles']}\")\n",
    "        else:\n",
    "            print(f\"User login as {log['roles']} failed\")\n",
    "    elif log['activity'].lower() == 'view_page':\n",
    "        print(f\"User logged in as {log['roles']}\")\"\"\"\n"
   ]
  }
 ],
 "metadata": {
  "kernelspec": {
   "display_name": "Python 3",
   "language": "python",
   "name": "python3"
  },
  "language_info": {
   "codemirror_mode": {
    "name": "ipython",
    "version": 3
   },
   "file_extension": ".py",
   "mimetype": "text/x-python",
   "name": "python",
   "nbconvert_exporter": "python",
   "pygments_lexer": "ipython3",
   "version": "3.11.9"
  }
 },
 "nbformat": 4,
 "nbformat_minor": 5
}
